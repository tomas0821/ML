{
 "cells": [
  {
   "cell_type": "code",
   "execution_count": 5,
   "id": "c5d40971",
   "metadata": {},
   "outputs": [
    {
     "name": "stdout",
     "output_type": "stream",
     "text": [
      "Requirement already satisfied: bs4 in c:\\users\\tomas\\miniconda3\\lib\\site-packages (0.0.2)\n",
      "Requirement already satisfied: beautifulsoup4 in c:\\users\\tomas\\miniconda3\\lib\\site-packages (from bs4) (4.13.5)\n",
      "Requirement already satisfied: soupsieve>1.2 in c:\\users\\tomas\\miniconda3\\lib\\site-packages (from beautifulsoup4->bs4) (2.8)\n",
      "Requirement already satisfied: typing-extensions>=4.0.0 in c:\\users\\tomas\\miniconda3\\lib\\site-packages (from beautifulsoup4->bs4) (4.12.2)\n",
      "Collecting lxml\n",
      "  Downloading lxml-6.0.1-cp312-cp312-win_amd64.whl.metadata (3.9 kB)\n",
      "Downloading lxml-6.0.1-cp312-cp312-win_amd64.whl (4.0 MB)\n",
      "   ---------------------------------------- 0.0/4.0 MB ? eta -:--:--\n",
      "   ---------------------------------------- 0.0/4.0 MB ? eta -:--:--\n",
      "   ------------------ --------------------- 1.8/4.0 MB 8.4 MB/s eta 0:00:01\n",
      "   ------------------------------------ --- 3.7/4.0 MB 8.4 MB/s eta 0:00:01\n",
      "   ---------------------------------------- 4.0/4.0 MB 7.7 MB/s eta 0:00:00\n",
      "Installing collected packages: lxml\n",
      "Successfully installed lxml-6.0.1\n"
     ]
    }
   ],
   "source": [
    "!pip install bs4\n",
    "!pip install lxml"
   ]
  },
  {
   "cell_type": "code",
   "execution_count": 14,
   "id": "3a046f85",
   "metadata": {},
   "outputs": [
    {
     "name": "stdout",
     "output_type": "stream",
     "text": [
      "Successfully created DataFrame for Mohamed Salah. Here's a preview:\n",
      "      id  minute       result      X      Y        xG         player h_a  \\\n",
      "0  15217      92  MissedShots  0.823  0.369  0.062365  Mohamed Salah   h   \n",
      "1  20034      84    SavedShot  0.920  0.532  0.439938  Mohamed Salah   a   \n",
      "2  46908      87  BlockedShot  0.886  0.566  0.096760  Mohamed Salah   h   \n",
      "3  47192       0    SavedShot  0.964  0.688  0.049131  Mohamed Salah   a   \n",
      "4  47197      16  MissedShots  0.900  0.677  0.060320  Mohamed Salah   a   \n",
      "\n",
      "  player_id situation  season  shotType  match_id      h_team      a_team  \\\n",
      "0      1250  OpenPlay    2014  LeftFoot      4720     Chelsea     Swansea   \n",
      "1      1250  OpenPlay    2014  LeftFoot      4560   Tottenham     Chelsea   \n",
      "2      1250  OpenPlay    2014  LeftFoot      4929  Fiorentina    Atalanta   \n",
      "3      1250  OpenPlay    2014  LeftFoot      4937    Sassuolo  Fiorentina   \n",
      "4      1250  OpenPlay    2014  LeftFoot      4937    Sassuolo  Fiorentina   \n",
      "\n",
      "  h_goals a_goals                 date player_assisted lastAction  \n",
      "0       4       2  2014-09-13 15:00:00     Eden Hazard       Pass  \n",
      "1       5       3  2015-01-01 17:30:00     Eden Hazard       Pass  \n",
      "2       3       2  2015-02-08 11:30:00     Mario Gomez  BallTouch  \n",
      "3       1       3  2015-02-14 17:00:00   David Pizarro    Chipped  \n",
      "4       1       3  2015-02-14 17:00:00  Khouma Babacar       Pass  \n",
      "\n",
      "DataFrame successfully saved to 'Mohamed_Salah_shots.csv'\n"
     ]
    }
   ],
   "source": [
    "import requests\n",
    "from bs4 import BeautifulSoup\n",
    "import json\n",
    "import pandas as pd\n",
    "import re\n",
    "\n",
    "# 1. URL and Setup\n",
    "# Use a different player URL to demonstrate the new logic\n",
    "url = 'https://understat.com/player/1250' # Mohamed Salah\n",
    "\n",
    "# 2. Fetch and Parse the HTML\n",
    "res = requests.get(url)\n",
    "soup = BeautifulSoup(res.content, 'html.parser')\n",
    "\n",
    "# 3. Find and Extract the Shot Data JSON\n",
    "scripts = soup.find_all('script')\n",
    "string_with_json = ''\n",
    "for script in scripts:\n",
    "    if 'shotsData' in str(script):\n",
    "        string_with_json = str(script)\n",
    "        break\n",
    "\n",
    "json_data_match = re.search(r\"JSON\\.parse\\('([^']+)'\\)\", string_with_json)\n",
    "if json_data_match:\n",
    "    encoded_json = json_data_match.group(1)\n",
    "    decoded_json = bytes(encoded_json, 'utf-8').decode('unicode_escape')\n",
    "    data = json.loads(decoded_json)\n",
    "else:\n",
    "    print(\"Could not find shotsData.\")\n",
    "    data = []\n",
    "\n",
    "# 4. Create DataFrame and Process Data\n",
    "if data:\n",
    "    df = pd.DataFrame(data)\n",
    "    numeric_cols = ['X', 'Y', 'xG', 'minute', 'season', 'match_id']\n",
    "    for col in numeric_cols:\n",
    "        df[col] = pd.to_numeric(df[col], errors='coerce')\n",
    "    \n",
    "    # 5. Get Player Name directly from the DataFrame\n",
    "    # This is more reliable than scraping the HTML header.\n",
    "    if not df.empty:\n",
    "        player_name = df['player'].iloc[0]\n",
    "        filename_name = player_name.replace(' ', '_')\n",
    "        \n",
    "        print(f\"Successfully created DataFrame for {player_name}. Here's a preview:\")\n",
    "        print(df.head())\n",
    "\n",
    "        # 6. Save the DataFrame to a CSV file with the dynamic name\n",
    "        csv_filename = f\"{filename_name}_shots.csv\"\n",
    "        df.to_csv(csv_filename, index=False)\n",
    "        print(f\"\\nDataFrame successfully saved to '{csv_filename}'\")\n",
    "    else:\n",
    "        print(\"Data was found, but the DataFrame is empty.\")\n",
    "\n",
    "else:\n",
    "    print(\"No shot data was found to create a DataFrame.\")"
   ]
  }
 ],
 "metadata": {
  "kernelspec": {
   "display_name": "base",
   "language": "python",
   "name": "python3"
  },
  "language_info": {
   "codemirror_mode": {
    "name": "ipython",
    "version": 3
   },
   "file_extension": ".py",
   "mimetype": "text/x-python",
   "name": "python",
   "nbconvert_exporter": "python",
   "pygments_lexer": "ipython3",
   "version": "3.12.3"
  }
 },
 "nbformat": 4,
 "nbformat_minor": 5
}
